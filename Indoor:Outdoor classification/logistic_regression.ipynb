{
 "cells": [
  {
   "cell_type": "markdown",
   "metadata": {
    "deletable": true,
    "editable": true
   },
   "source": [
    "# Методы Оптимизации\n",
    "## Задача классификации изображений\n",
    "### Студент: Ярослав Спирин (группа 594)"
   ]
  },
  {
   "cell_type": "code",
   "execution_count": 41,
   "metadata": {
    "collapsed": false,
    "deletable": true,
    "editable": true
   },
   "outputs": [],
   "source": [
    "import numpy as np # vectorized math\n",
    "import scipy.misc # image loading\n",
    "import os # to get all images from the directory\n",
    "from tqdm import tqdm_notebook as tqdm # tracking loop progress\n",
    "import matplotlib.pyplot as plt # to show plots and images\n",
    "import matplotlib\n",
    "from scipy.ndimage import uniform_filter\n",
    "from matplotlib.mlab import PCA # PCA encoder\n",
    "import pandas as pd # working with dataframes"
   ]
  },
  {
   "cell_type": "markdown",
   "metadata": {},
   "source": [
    "Поскольку будем использовать генератор случайных чисел, нужно фиксировать seed."
   ]
  },
  {
   "cell_type": "code",
   "execution_count": 42,
   "metadata": {
    "collapsed": true
   },
   "outputs": [],
   "source": [
    "np.random.seed(42)"
   ]
  },
  {
   "cell_type": "markdown",
   "metadata": {
    "deletable": true,
    "editable": true
   },
   "source": [
    "Для начала загрузим данные и представим каждую картинку в виде вектора признаков следующим образом:\n",
    "![](https://cdn-images-1.medium.com/max/1600/1*Vo8PMHppg_lWxFAZHZzNGQ.png)"
   ]
  },
  {
   "cell_type": "markdown",
   "metadata": {
    "deletable": true,
    "editable": true
   },
   "source": [
    "Поскольку картинки имеют разрешение 32x32 и каждый пиксель отвечает за наполнение 3-мя цветами, у нас получится, что каждая картинка - это элемент пространства размерности 3072. В дальнейшем мы будем использовать метод уменьшения размерности PCA, поскольку данные из пространства размерности 3072, описывающие пиксели картинки - избыточны.\n",
    "\n",
    "** Update: ** Таким было бы решение, если бы не было необходимости занимать верхние места в Kaggle Leaderboard (https://www.kaggle.com/c/fivt-metopt-2017/leaderboard). Чтобы достичь лучших результатов, я предлагаю подход использующий не пиксели в качестве фичей, а более информативные свойства, которыми обладает каждая картинка из датасета. Например, цветовые гистограммы, гистограмма ориентированных градиентов и другие.\n",
    "\n",
    "Некоторые подходы заимствованы из курса cs231n Stanford University."
   ]
  },
  {
   "cell_type": "code",
   "execution_count": 43,
   "metadata": {
    "collapsed": false,
    "deletable": true,
    "editable": true
   },
   "outputs": [],
   "source": [
    "# Возвращает цветовые гистограммы\n",
    "def color_histogram_hsv(im, nbin=10, xmin=0, xmax=255, normalized=True):\n",
    "    ndim = im.ndim\n",
    "    bins = np.linspace(xmin, xmax, nbin+1)\n",
    "    hsv = matplotlib.colors.rgb_to_hsv(im/xmax) * xmax\n",
    "    imhist, bin_edges = np.histogram(hsv[:,:,0], bins=bins, density=normalized)\n",
    "    imhist = imhist * np.diff(bin_edges)\n",
    "\n",
    "    # return histogram\n",
    "    return imhist\n",
    "\n",
    "# Перевести картинку из формата RGB в черно-белый\n",
    "def rgb2gray(rgb):\n",
    "    return np.dot(rgb[...,:3], [0.299, 0.587, 0.144])\n",
    "\n",
    "# Извлечь гистограмму ориентрованных градиентов\n",
    "# https://en.wikipedia.org/wiki/Histogram_of_oriented_gradients\n",
    "def hog_feature(im):\n",
    "    \n",
    "    # convert rgb to grayscale if needed\n",
    "    if im.ndim == 3:\n",
    "        image = rgb2gray(im)\n",
    "    else:\n",
    "        image = np.at_least_2d(im)\n",
    "\n",
    "    sx, sy = image.shape # image size\n",
    "    orientations = 9 # number of gradient bins\n",
    "    cx, cy = (8, 8) # pixels per cell\n",
    "\n",
    "    gx = np.zeros(image.shape)\n",
    "    gy = np.zeros(image.shape)\n",
    "    gx[:, :-1] = np.diff(image, n=1, axis=1) # compute gradient on x-direction\n",
    "    gy[:-1, :] = np.diff(image, n=1, axis=0) # compute gradient on y-direction\n",
    "    grad_mag = np.sqrt(gx ** 2 + gy ** 2) # gradient magnitude\n",
    "    grad_ori = np.arctan2(gy, (gx + 1e-15)) * (180 / np.pi) + 90 # gradient orientation\n",
    "\n",
    "    n_cellsx = int(np.floor(sx / cx))  # number of cells in x\n",
    "    n_cellsy = int(np.floor(sy / cy))  # number of cells in y\n",
    "    # compute orientations integral images\n",
    "    orientation_histogram = np.zeros((n_cellsx, n_cellsy, orientations))\n",
    "    for i in range(orientations):\n",
    "        # create new integral image for this orientation\n",
    "        # isolate orientations in this range\n",
    "        temp_ori = np.where(grad_ori < 180 / orientations * (i + 1),\n",
    "                        grad_ori, 0)\n",
    "        temp_ori = np.where(grad_ori >= 180 / orientations * i,\n",
    "                        temp_ori, 0)\n",
    "        # select magnitudes for those orientations\n",
    "        cond2 = temp_ori > 0\n",
    "        temp_mag = np.where(cond2, grad_mag, 0)\n",
    "        orientation_histogram[:,:,i] = uniform_filter(temp_mag, size=(cx, cy))[int(cx/2)::cx, int(cy/2)::cy].T\n",
    "  \n",
    "    return orientation_histogram.ravel()"
   ]
  },
  {
   "cell_type": "code",
   "execution_count": 44,
   "metadata": {
    "collapsed": true,
    "deletable": true,
    "editable": true
   },
   "outputs": [],
   "source": [
    "# Функция извлечения фичей\n",
    "def extract_features(sample):\n",
    "    # hsv\n",
    "    hsv = color_histogram_hsv(sample, nbin=80)\n",
    "    \n",
    "    # hog\n",
    "    hog = hog_feature(sample)\n",
    "    \n",
    "    # color hist\n",
    "    sample = sample.reshape(sample.shape[0] * sample.shape[1], -1)\n",
    "    \n",
    "    red_buckets, _ = np.histogram(sample[:, 0], bins=range(0, 256, 3))\n",
    "    green_buckets, _ = np.histogram(sample[:, 1], bins=range(0, 256, 3))\n",
    "    blue_buckets, _ = np.histogram(sample[:, 2], bins=range(0, 256, 3))\n",
    "    \n",
    "    # volume color hist\n",
    "    volume_color_hist, _ = np.histogramdd(sample, bins=[8, 8, 8])\n",
    "    volume_color_buckets = volume_color_hist.flatten()\n",
    "    \n",
    "    features = np.concatenate((red_buckets, green_buckets, blue_buckets, volume_color_buckets, hog, hsv))\n",
    "    \n",
    "    return features"
   ]
  },
  {
   "cell_type": "code",
   "execution_count": 45,
   "metadata": {
    "collapsed": false,
    "deletable": true,
    "editable": true
   },
   "outputs": [],
   "source": [
    "# Функция загружающая картинки из соотвествующих директорий\n",
    "def load_images():\n",
    "    X_train = []\n",
    "    y_train = []\n",
    "    flatten_train_images = []\n",
    "    \n",
    "    for filename in tqdm(os.listdir(\"train\"), desc=\"train loop\"):\n",
    "        train_image = scipy.misc.imread(\"train/{}\".format(filename), mode=\"RGB\")\n",
    "        flipped_train_image = np.flip(train_image, axis=1)\n",
    "        \n",
    "        X_train.append(extract_features(train_image))\n",
    "        flatten_train_images.append(train_image.flatten())\n",
    "        \n",
    "        X_train.append(extract_features(flipped_train_image))\n",
    "        flatten_train_images.append(flipped_train_image.flatten())\n",
    "        \n",
    "        if filename.startswith(\"indoor\"):\n",
    "            y_train.append(1)\n",
    "            y_train.append(1)\n",
    "        else:\n",
    "            y_train.append(0)\n",
    "            y_train.append(0)\n",
    "    \n",
    "    X_test = [] \n",
    "    flatten_test_images = []\n",
    "    \n",
    "    for filename in tqdm(os.listdir(\"test\"), desc=\"test loop\"):\n",
    "        test_image = scipy.misc.imread(\"test/{}\".format(filename), mode=\"RGB\")\n",
    "        \n",
    "        X_test.append(extract_features(test_image))\n",
    "        flatten_test_images.append(test_image.flatten())\n",
    "        \n",
    "    X_train = np.array(X_train)\n",
    "    X_test = np.array(X_test)\n",
    "    y_train = np.array(y_train)\n",
    "    \n",
    "    # adding pixels features\n",
    "    flatten_train_images = np.array(flatten_train_images)\n",
    "    flatten_test_images = np.array(flatten_test_images)\n",
    "\n",
    "    num_train = flatten_train_images.shape[0]\n",
    "    num_test = flatten_test_images.shape[0]\n",
    "    \n",
    "    pca_matrix = PCA(np.vstack((flatten_train_images, flatten_test_images)))\n",
    "    pca_matrix = pca_matrix.Y[:, :200]\n",
    "    \n",
    "    img_feature_train = pca_matrix[:num_train]\n",
    "    img_feature_test = pca_matrix[num_train:]\n",
    "    \n",
    "    X_train = np.hstack((X_train, img_feature_train))\n",
    "    X_test = np.hstack((X_test, img_feature_test))\n",
    "    \n",
    "    return X_train, y_train, X_test"
   ]
  },
  {
   "cell_type": "code",
   "execution_count": 46,
   "metadata": {
    "collapsed": false,
    "deletable": true,
    "editable": true
   },
   "outputs": [
    {
     "data": {
      "application/vnd.jupyter.widget-view+json": {
       "model_id": "6513bd88d37f477ab66e66fcc0648d29"
      }
     },
     "metadata": {},
     "output_type": "display_data"
    },
    {
     "name": "stdout",
     "output_type": "stream",
     "text": [
      "\n"
     ]
    },
    {
     "data": {
      "application/vnd.jupyter.widget-view+json": {
       "model_id": "f62b581da51d4b0183af0c8271695718"
      }
     },
     "metadata": {},
     "output_type": "display_data"
    },
    {
     "name": "stdout",
     "output_type": "stream",
     "text": [
      "\n"
     ]
    }
   ],
   "source": [
    "X, y, X_test = load_images()"
   ]
  },
  {
   "cell_type": "markdown",
   "metadata": {
    "deletable": true,
    "editable": true
   },
   "source": [
    "Далее отнормируем фичи по формуле: $$ X = \\frac {X}  {X_{max}} $$, как показала практика такая нормировка оказалась даже лучше общепринятого нормирования $$ X = \\frac {X - X_{min}} {X_{max} - X_{min}}$$ и $$ X = \\frac {X - X_{mean}} {std(X)} $$ После такого преобразования градиентный спуск будет сходится быстрее. (https://en.wikipedia.org/wiki/Feature_scaling)"
   ]
  },
  {
   "cell_type": "code",
   "execution_count": 47,
   "metadata": {
    "collapsed": true,
    "deletable": true,
    "editable": true
   },
   "outputs": [],
   "source": [
    "def normalize_batch(X):\n",
    "    return X / X.max()"
   ]
  },
  {
   "cell_type": "code",
   "execution_count": 48,
   "metadata": {
    "collapsed": false,
    "deletable": true,
    "editable": true
   },
   "outputs": [],
   "source": [
    "def normalize(X, partitions):\n",
    "    aux = np.hstack((np.array([0]), partitions))\n",
    "    cumsum = np.cumsum(aux)\n",
    "    for i in range(1, len(cumsum)):\n",
    "        X[:, cumsum[i - 1]:cumsum[i]] = normalize_batch(X[:, cumsum[i - 1]:cumsum[i]])\n",
    "        \n",
    "    return X"
   ]
  },
  {
   "cell_type": "code",
   "execution_count": 49,
   "metadata": {
    "collapsed": false,
    "deletable": true,
    "editable": true
   },
   "outputs": [],
   "source": [
    "color_bucket_size = len(range(0, 256, 3))\n",
    "volume_buckets_size = 8 * 8 * 8\n",
    "hog_size = 144\n",
    "hsv_size = 80\n",
    "pixels_size = 200\n",
    "\n",
    "partitions = [color_bucket_size,\n",
    "              color_bucket_size,\n",
    "              color_bucket_size,\n",
    "              volume_buckets_size,\n",
    "              hog_size,\n",
    "              hsv_size,\n",
    "              pixels_size\n",
    "             ]\n",
    "\n",
    "num_train = X.shape[0]\n",
    "\n",
    "normalized_data = normalize(np.vstack((X, X_test)), partitions)\n",
    "\n",
    "X = normalized_data[:num_train]\n",
    "X_test = normalized_data[num_train:]"
   ]
  },
  {
   "cell_type": "markdown",
   "metadata": {
    "deletable": true,
    "editable": true
   },
   "source": [
    "Разделим выборку `X` на `X_train` и `X_val` для того, чтобы проверять точность модели. При этом разделение будем производить случайным образом, чтобы исключить дальнейшее возникновение переобучения."
   ]
  },
  {
   "cell_type": "code",
   "execution_count": 50,
   "metadata": {
    "collapsed": false,
    "deletable": true,
    "editable": true
   },
   "outputs": [],
   "source": [
    "def train_and_val(X, y, ratio=0.75):\n",
    "    # samples with odd indices are flipped images - can't use them in validation\n",
    "    \n",
    "    # 1. split into odd and even rows\n",
    "    X_even = X[::2]\n",
    "    X_odd = X[1::2]\n",
    "    \n",
    "    y_even = y[::2]\n",
    "    y_odd = y[1::2]\n",
    "    \n",
    "    # 2. subsampling from even rows\n",
    "    indices = np.arange(len(X_even))\n",
    "    np.random.shuffle(indices)\n",
    "    \n",
    "    num_train = int(ratio * len(X_even))\n",
    "    \n",
    "    X_train = X_even[indices[:num_train]]\n",
    "    X_val = X_even[indices[num_train:]]\n",
    "    \n",
    "    y_train = y_even[indices[:num_train]]\n",
    "    y_val = y_even[indices[num_train:]]\n",
    "    \n",
    "    # 3. subsampling from odd rows\n",
    "    indices = np.arange(len(X_odd))\n",
    "    np.random.shuffle(indices)\n",
    "    \n",
    "    X_train = np.vstack((X_train, X_odd[indices]))\n",
    "    y_train = np.hstack((y_train, y_odd[indices]))\n",
    "    \n",
    "    return X_train, y_train, X_val, y_val"
   ]
  },
  {
   "cell_type": "code",
   "execution_count": 51,
   "metadata": {
    "collapsed": false,
    "deletable": true,
    "editable": true
   },
   "outputs": [],
   "source": [
    "X_train, y_train, X_val, y_val = train_and_val(X, y)"
   ]
  },
  {
   "cell_type": "code",
   "execution_count": 52,
   "metadata": {
    "collapsed": false,
    "deletable": true,
    "editable": true
   },
   "outputs": [],
   "source": [
    "X_train = X_train.astype(\"float64\")\n",
    "X_val = X_val.astype(\"float64\")"
   ]
  },
  {
   "cell_type": "markdown",
   "metadata": {},
   "source": [
    "Изобразим на гистограмме как выглядит один вектор признаков для картинки."
   ]
  },
  {
   "cell_type": "code",
   "execution_count": 53,
   "metadata": {
    "collapsed": false,
    "deletable": true,
    "editable": true
   },
   "outputs": [
    {
     "data": {
      "image/png": "[encoded data removed]",
      "text/plain": [
       "<matplotlib.figure.Figure at 0x1106b4630>"
      ]
     },
     "metadata": {},
     "output_type": "display_data"
    }
   ],
   "source": [
    "plt.scatter(np.arange(X_train[1300].shape[0]), X_train[1300])\n",
    "plt.show()"
   ]
  },
  {
   "cell_type": "markdown",
   "metadata": {
    "deletable": true,
    "editable": true
   },
   "source": [
    "Поскольку логистическая регрессия использует линейную модель $y = XW + b$, добавим дополнительный столбец (соответствующий $b$) к `X_train` и `X_test`. Таким образом, мы сделаем работу нашего алгоритма более прямолинейной. Как итог получим модель, которая выглядит более приятно: $y = XW$"
   ]
  },
  {
   "cell_type": "code",
   "execution_count": 54,
   "metadata": {
    "collapsed": false,
    "deletable": true,
    "editable": true
   },
   "outputs": [],
   "source": [
    "X_train = np.hstack([X_train, np.ones((X_train.shape[0], 1))])\n",
    "X_val = np.hstack([X_val, np.ones((X_val.shape[0], 1))])\n",
    "X_test = np.hstack([X_test, np.ones((X_test.shape[0], 1))])"
   ]
  },
  {
   "cell_type": "markdown",
   "metadata": {
    "deletable": true,
    "editable": true
   },
   "source": [
    "Теперь реализуем класс линейного классификатора, основываясь на лекции курса cs231n (Stanford University).\n",
    "\n",
    "Реализация использует аналитически посчитанный градиент для большей точности.\n",
    "\n",
    "$$ scores = XW $$ и $$ softmax = \\frac { e^{scores_{correctclass}} } {\\sum{e^{scores_{class}}}} $$\n",
    "\n",
    "Функцию потерь определим так: $$ Loss = \\frac {1} {N} \\sum{Loss_i} + \\lambda \\sum\\sum{W_{i,j}^2} $$, где $$ Loss_i = -\\log(\\frac { e^{scores_{correctclass}} } {\\sum{e^{scores_{class}}}}) $$\n",
    "\n",
    "Кроме того, классификатор позволяет считать функцию потерь на валидационной выборке и позволяет настраивать шаг градиентного спуска `learning_rate` и регуляризацию `reg`."
   ]
  },
  {
   "cell_type": "code",
   "execution_count": 55,
   "metadata": {
    "collapsed": false,
    "deletable": true,
    "editable": true
   },
   "outputs": [],
   "source": [
    "class SoftmaxClassifier:\n",
    "\n",
    "    ### Initialize classifier\n",
    "    def __init__(self):\n",
    "        self.W = None\n",
    "\n",
    "    ### Train the logistic regression model using Gradient Descent algorithm\n",
    "    def train(self, X, y, X_val=None, y_val=None, learning_rate=1e-3, reg=1e-5, num_iters=100, verbose=False):\n",
    "        num_train, dim = X.shape\n",
    "        num_classes = np.max(y) + 1\n",
    "        \n",
    "        if self.W is None:\n",
    "            self.W = 0.0001 * np.random.randn(dim, num_classes)\n",
    "\n",
    "        # Run gradient descent to optimize W\n",
    "        loss_history = []\n",
    "        loss_val_history = []\n",
    "        for it in range(num_iters):\n",
    "            # evaluate loss and gradient\n",
    "            loss, grad, loss_val = self.softmax_loss_vectorized(X, y, reg, X_val, y_val)\n",
    "            \n",
    "            #loss_history.append(loss)\n",
    "            #loss_val_history.append(loss_val)\n",
    "            \n",
    "            # update parameters\n",
    "            self.W += -learning_rate * grad\n",
    "\n",
    "            if verbose and it % 100 == 0:\n",
    "                \n",
    "                if len(loss_val_history) > 0 and loss_val_history[-1] < loss_val:\n",
    "                    break\n",
    "                \n",
    "                loss_history.append(loss)\n",
    "                loss_val_history.append(loss_val)\n",
    "                \n",
    "                print('iteration %d / %d: loss %f; validation loss %f' % (it, num_iters, loss, loss_val))\n",
    "                \n",
    "\n",
    "        return loss_history\n",
    "    \n",
    "    ### Predict the output value for the test sample\n",
    "    def predict(self, X):\n",
    "        scores = np.dot(X, self.W)\n",
    "        max_scores = np.max(scores, axis=1).reshape(scores.shape[0], -1)\n",
    "        scores -= max_scores\n",
    "        probs = np.exp(scores) / np.sum(np.exp(scores), axis=1).reshape(scores.shape[0], -1)\n",
    "        return probs[:, 1]\n",
    "        \n",
    "    ### Calculate the loss and gradient\n",
    "    def softmax_loss_vectorized(self, X, y, reg, X_val, y_val):\n",
    "  \n",
    "        # Initialize the loss and gradient to zero\n",
    "        loss = 0.0\n",
    "        loss_val = 0.0\n",
    "        dW = np.zeros_like(self.W)\n",
    "  \n",
    "        num_train = X.shape[0]\n",
    "        num_classes = self.W.shape[1]\n",
    "\n",
    "        # Loss calculation\n",
    "        scores = np.dot(X, self.W)\n",
    "        max_scores = np.max(scores, axis=1).reshape(scores.shape[0], -1)\n",
    "        scores -= max_scores\n",
    "        \n",
    "        arange = np.arange(0, num_train)\n",
    "    \n",
    "        correct_class_scores = scores[arange, y]\n",
    "        logistic_function = np.exp(correct_class_scores) / np.sum(np.exp(scores), axis=1)\n",
    "        loss += -np.sum(np.log(logistic_function))\n",
    "    \n",
    "        loss /= num_train\n",
    "        loss += reg * np.sum(self.W * self.W)\n",
    "   \n",
    "\n",
    "        # Gradient calculation\n",
    "        aux = np.exp(scores) / np.sum(np.exp(scores), axis=1).reshape(scores.shape[0], -1)\n",
    "        dW += np.dot(X.T, aux)\n",
    "    \n",
    "        correct_classes = np.zeros(scores.shape)\n",
    "        correct_classes[arange, y] = 1\n",
    "        dW -= np.dot(X.T, correct_classes)\n",
    "    \n",
    "        dW /= num_train\n",
    "        dW += 2 * reg * self.W\n",
    "        \n",
    "        # Validation loss calculation\n",
    "        num_train = X_val.shape[0]\n",
    "        \n",
    "        scores = np.dot(X_val, self.W)\n",
    "        max_scores = np.max(scores, axis=1).reshape(scores.shape[0], -1)\n",
    "        scores -= max_scores\n",
    "        \n",
    "        arange = np.arange(0, num_train)\n",
    "    \n",
    "        correct_class_scores = scores[arange, y_val]\n",
    "        logistic_function = np.exp(correct_class_scores) / np.sum(np.exp(scores), axis=1)\n",
    "        loss_val += -np.sum(np.log(logistic_function))\n",
    "    \n",
    "        loss_val /= num_train\n",
    "        loss_val += reg * np.sum(self.W * self.W)\n",
    "        \n",
    "        return loss, dW, loss_val"
   ]
  },
  {
   "cell_type": "markdown",
   "metadata": {
    "deletable": true,
    "editable": true
   },
   "source": [
    "## Bootstrapping\n",
    "Данный подход подразумевает то, что мы настраиваем несколько моделей на случайных подвыборках исходного датасета, а затем усредним показатели на тестовой выборке."
   ]
  },
  {
   "cell_type": "code",
   "execution_count": 56,
   "metadata": {
    "collapsed": false,
    "deletable": true,
    "editable": true
   },
   "outputs": [],
   "source": [
    "def rmse(predictions, targets):\n",
    "    return np.sqrt(((predictions - targets) ** 2).mean())"
   ]
  },
  {
   "cell_type": "code",
   "execution_count": 57,
   "metadata": {
    "collapsed": false,
    "deletable": true,
    "editable": true
   },
   "outputs": [
    {
     "name": "stdout",
     "output_type": "stream",
     "text": [
      "Softmax Classifier 1\n",
      "iteration 0 / 3000: loss 0.693109; validation loss 0.693115\n",
      "iteration 100 / 3000: loss 0.177259; validation loss 0.184047\n",
      "iteration 200 / 3000: loss 0.162791; validation loss 0.173344\n",
      "iteration 300 / 3000: loss 0.154399; validation loss 0.167811\n",
      "iteration 400 / 3000: loss 0.148668; validation loss 0.164381\n",
      "iteration 500 / 3000: loss 0.144407; validation loss 0.162076\n",
      "iteration 600 / 3000: loss 0.141058; validation loss 0.160447\n",
      "iteration 700 / 3000: loss 0.138322; validation loss 0.159256\n",
      "iteration 800 / 3000: loss 0.136021; validation loss 0.158364\n",
      "iteration 900 / 3000: loss 0.134044; validation loss 0.157683\n",
      "iteration 1000 / 3000: loss 0.132317; validation loss 0.157158\n",
      "iteration 1100 / 3000: loss 0.130788; validation loss 0.156750\n",
      "iteration 1200 / 3000: loss 0.129419; validation loss 0.156431\n",
      "iteration 1300 / 3000: loss 0.128182; validation loss 0.156181\n",
      "iteration 1400 / 3000: loss 0.127058; validation loss 0.155986\n",
      "iteration 1500 / 3000: loss 0.126028; validation loss 0.155836\n",
      "iteration 1600 / 3000: loss 0.125079; validation loss 0.155721\n",
      "iteration 1700 / 3000: loss 0.124201; validation loss 0.155636\n",
      "iteration 1800 / 3000: loss 0.123386; validation loss 0.155574\n",
      "iteration 1900 / 3000: loss 0.122624; validation loss 0.155532\n",
      "iteration 2000 / 3000: loss 0.121912; validation loss 0.155505\n",
      "iteration 2100 / 3000: loss 0.121242; validation loss 0.155493\n",
      "iteration 2200 / 3000: loss 0.120611; validation loss 0.155491\n",
      "\n",
      "Softmax Classifier 2\n",
      "iteration 0 / 3000: loss 0.693151; validation loss 0.693149\n",
      "iteration 100 / 3000: loss 0.177241; validation loss 0.187098\n",
      "iteration 200 / 3000: loss 0.163297; validation loss 0.173762\n",
      "iteration 300 / 3000: loss 0.155131; validation loss 0.166069\n",
      "iteration 400 / 3000: loss 0.149514; validation loss 0.161096\n",
      "iteration 500 / 3000: loss 0.145320; validation loss 0.157650\n",
      "iteration 600 / 3000: loss 0.142017; validation loss 0.155137\n",
      "iteration 700 / 3000: loss 0.139314; validation loss 0.153235\n",
      "iteration 800 / 3000: loss 0.137040; validation loss 0.151752\n",
      "iteration 900 / 3000: loss 0.135084; validation loss 0.150571\n",
      "iteration 1000 / 3000: loss 0.133373; validation loss 0.149613\n",
      "iteration 1100 / 3000: loss 0.131856; validation loss 0.148828\n",
      "iteration 1200 / 3000: loss 0.130495; validation loss 0.148179\n",
      "iteration 1300 / 3000: loss 0.129264; validation loss 0.147637\n",
      "iteration 1400 / 3000: loss 0.128141; validation loss 0.147184\n",
      "iteration 1500 / 3000: loss 0.127110; validation loss 0.146804\n",
      "iteration 1600 / 3000: loss 0.126159; validation loss 0.146484\n",
      "iteration 1700 / 3000: loss 0.125277; validation loss 0.146215\n",
      "iteration 1800 / 3000: loss 0.124456; validation loss 0.145990\n",
      "iteration 1900 / 3000: loss 0.123687; validation loss 0.145801\n",
      "iteration 2000 / 3000: loss 0.122966; validation loss 0.145644\n",
      "iteration 2100 / 3000: loss 0.122287; validation loss 0.145514\n",
      "iteration 2200 / 3000: loss 0.121645; validation loss 0.145408\n",
      "iteration 2300 / 3000: loss 0.121038; validation loss 0.145322\n",
      "iteration 2400 / 3000: loss 0.120462; validation loss 0.145254\n",
      "iteration 2500 / 3000: loss 0.119914; validation loss 0.145201\n",
      "iteration 2600 / 3000: loss 0.119391; validation loss 0.145161\n",
      "iteration 2700 / 3000: loss 0.118892; validation loss 0.145134\n",
      "iteration 2800 / 3000: loss 0.118414; validation loss 0.145117\n",
      "iteration 2900 / 3000: loss 0.117956; validation loss 0.145109\n",
      "\n",
      "Softmax Classifier 3\n",
      "iteration 0 / 3000: loss 0.693151; validation loss 0.693151\n",
      "iteration 100 / 3000: loss 0.179125; validation loss 0.173989\n",
      "iteration 200 / 3000: loss 0.165133; validation loss 0.160866\n",
      "iteration 300 / 3000: loss 0.157036; validation loss 0.153530\n",
      "iteration 400 / 3000: loss 0.151516; validation loss 0.148655\n",
      "iteration 500 / 3000: loss 0.147418; validation loss 0.145161\n",
      "iteration 600 / 3000: loss 0.144204; validation loss 0.142524\n",
      "iteration 700 / 3000: loss 0.141584; validation loss 0.140454\n",
      "iteration 800 / 3000: loss 0.139385; validation loss 0.138778\n",
      "iteration 900 / 3000: loss 0.137499; validation loss 0.137384\n",
      "iteration 1000 / 3000: loss 0.135854; validation loss 0.136202\n",
      "iteration 1100 / 3000: loss 0.134397; validation loss 0.135180\n",
      "iteration 1200 / 3000: loss 0.133094; validation loss 0.134286\n",
      "iteration 1300 / 3000: loss 0.131917; validation loss 0.133494\n",
      "iteration 1400 / 3000: loss 0.130845; validation loss 0.132785\n",
      "iteration 1500 / 3000: loss 0.129863; validation loss 0.132145\n",
      "iteration 1600 / 3000: loss 0.128957; validation loss 0.131564\n",
      "iteration 1700 / 3000: loss 0.128117; validation loss 0.131034\n",
      "iteration 1800 / 3000: loss 0.127335; validation loss 0.130547\n",
      "iteration 1900 / 3000: loss 0.126603; validation loss 0.130099\n",
      "iteration 2000 / 3000: loss 0.125917; validation loss 0.129685\n",
      "iteration 2100 / 3000: loss 0.125270; validation loss 0.129300\n",
      "iteration 2200 / 3000: loss 0.124659; validation loss 0.128942\n",
      "iteration 2300 / 3000: loss 0.124081; validation loss 0.128609\n",
      "iteration 2400 / 3000: loss 0.123531; validation loss 0.128298\n",
      "iteration 2500 / 3000: loss 0.123008; validation loss 0.128006\n",
      "iteration 2600 / 3000: loss 0.122509; validation loss 0.127733\n",
      "iteration 2700 / 3000: loss 0.122032; validation loss 0.127476\n",
      "iteration 2800 / 3000: loss 0.121575; validation loss 0.127235\n",
      "iteration 2900 / 3000: loss 0.121137; validation loss 0.127007\n",
      "\n",
      "Softmax Classifier 4\n",
      "iteration 0 / 3000: loss 0.693173; validation loss 0.693166\n",
      "iteration 100 / 3000: loss 0.178714; validation loss 0.174803\n",
      "iteration 200 / 3000: loss 0.164708; validation loss 0.161853\n",
      "iteration 300 / 3000: loss 0.156578; validation loss 0.154642\n",
      "iteration 400 / 3000: loss 0.151014; validation loss 0.149962\n",
      "iteration 500 / 3000: loss 0.146870; validation loss 0.146667\n",
      "iteration 600 / 3000: loss 0.143610; validation loss 0.144228\n",
      "iteration 700 / 3000: loss 0.140945; validation loss 0.142359\n",
      "iteration 800 / 3000: loss 0.138703; validation loss 0.140892\n",
      "iteration 900 / 3000: loss 0.136776; validation loss 0.139718\n",
      "iteration 1000 / 3000: loss 0.135090; validation loss 0.138764\n",
      "iteration 1100 / 3000: loss 0.133597; validation loss 0.137979\n",
      "iteration 1200 / 3000: loss 0.132258; validation loss 0.137326\n",
      "iteration 1300 / 3000: loss 0.131047; validation loss 0.136780\n",
      "iteration 1400 / 3000: loss 0.129944; validation loss 0.136319\n",
      "iteration 1500 / 3000: loss 0.128933; validation loss 0.135928\n",
      "iteration 1600 / 3000: loss 0.128000; validation loss 0.135594\n",
      "iteration 1700 / 3000: loss 0.127135; validation loss 0.135308\n",
      "iteration 1800 / 3000: loss 0.126331; validation loss 0.135063\n",
      "iteration 1900 / 3000: loss 0.125579; validation loss 0.134851\n",
      "iteration 2000 / 3000: loss 0.124874; validation loss 0.134668\n",
      "iteration 2100 / 3000: loss 0.124210; validation loss 0.134509\n",
      "iteration 2200 / 3000: loss 0.123584; validation loss 0.134371\n",
      "iteration 2300 / 3000: loss 0.122992; validation loss 0.134251\n",
      "iteration 2400 / 3000: loss 0.122431; validation loss 0.134146\n",
      "iteration 2500 / 3000: loss 0.121897; validation loss 0.134054\n",
      "iteration 2600 / 3000: loss 0.121388; validation loss 0.133974\n",
      "iteration 2700 / 3000: loss 0.120903; validation loss 0.133903\n",
      "iteration 2800 / 3000: loss 0.120439; validation loss 0.133841\n",
      "iteration 2900 / 3000: loss 0.119994; validation loss 0.133787\n",
      "\n",
      "Softmax Classifier 5\n",
      "iteration 0 / 3000: loss 0.693140; validation loss 0.693136\n",
      "iteration 100 / 3000: loss 0.178447; validation loss 0.173579\n",
      "iteration 200 / 3000: loss 0.164164; validation loss 0.163054\n",
      "iteration 300 / 3000: loss 0.155889; validation loss 0.157028\n",
      "iteration 400 / 3000: loss 0.150224; validation loss 0.153101\n",
      "iteration 500 / 3000: loss 0.146001; validation loss 0.150353\n",
      "iteration 600 / 3000: loss 0.142676; validation loss 0.148338\n",
      "iteration 700 / 3000: loss 0.139958; validation loss 0.146808\n",
      "iteration 800 / 3000: loss 0.137671; validation loss 0.145612\n",
      "iteration 900 / 3000: loss 0.135706; validation loss 0.144657\n",
      "iteration 1000 / 3000: loss 0.133989; validation loss 0.143879\n",
      "iteration 1100 / 3000: loss 0.132468; validation loss 0.143237\n",
      "iteration 1200 / 3000: loss 0.131106; validation loss 0.142700\n",
      "iteration 1300 / 3000: loss 0.129875; validation loss 0.142247\n",
      "iteration 1400 / 3000: loss 0.128753; validation loss 0.141861\n",
      "iteration 1500 / 3000: loss 0.127726; validation loss 0.141530\n",
      "iteration 1600 / 3000: loss 0.126778; validation loss 0.141246\n",
      "iteration 1700 / 3000: loss 0.125899; validation loss 0.141000\n",
      "iteration 1800 / 3000: loss 0.125082; validation loss 0.140787\n",
      "iteration 1900 / 3000: loss 0.124318; validation loss 0.140602\n",
      "iteration 2000 / 3000: loss 0.123601; validation loss 0.140442\n",
      "iteration 2100 / 3000: loss 0.122927; validation loss 0.140302\n",
      "iteration 2200 / 3000: loss 0.122290; validation loss 0.140181\n",
      "iteration 2300 / 3000: loss 0.121688; validation loss 0.140076\n",
      "iteration 2400 / 3000: loss 0.121116; validation loss 0.139985\n",
      "iteration 2500 / 3000: loss 0.120573; validation loss 0.139906\n",
      "iteration 2600 / 3000: loss 0.120055; validation loss 0.139839\n",
      "iteration 2700 / 3000: loss 0.119560; validation loss 0.139781\n",
      "iteration 2800 / 3000: loss 0.119087; validation loss 0.139733\n",
      "iteration 2900 / 3000: loss 0.118634; validation loss 0.139691\n",
      "\n"
     ]
    }
   ],
   "source": [
    "data_splits = [list(train_and_val(X, y)) for i in range(5)]\n",
    "classifiers = []\n",
    "\n",
    "\n",
    "for i in range(5):\n",
    "    print(\"Softmax Classifier {}\".format(i + 1))\n",
    "    \n",
    "    data_splits[i][0] = data_splits[i][0].astype(\"float64\")\n",
    "    data_splits[i][2] = data_splits[i][2].astype(\"float64\")\n",
    "    \n",
    "    data_splits[i][0] = np.hstack([data_splits[i][0], np.ones((data_splits[i][0].shape[0], 1))])\n",
    "    data_splits[i][2] = np.hstack([data_splits[i][2], np.ones((data_splits[i][2].shape[0], 1))])\n",
    "    \n",
    "    softmax = SoftmaxClassifier()\n",
    "    softmax.train(data_splits[i][0], data_splits[i][1],\n",
    "                  data_splits[i][2], data_splits[i][3],\n",
    "                  learning_rate=12, reg=0,\n",
    "                  num_iters=3000, verbose=True)\n",
    "    \n",
    "    classifiers.append(softmax)\n",
    "    print()"
   ]
  },
  {
   "cell_type": "code",
   "execution_count": 58,
   "metadata": {
    "collapsed": false,
    "deletable": true,
    "editable": true
   },
   "outputs": [
    {
     "name": "stdout",
     "output_type": "stream",
     "text": [
      "[0.20823714938842042, 0.19764514905556788, 0.19173392207750345, 0.193521739564605, 0.19142561883711307]\n"
     ]
    }
   ],
   "source": [
    "### Predictions\n",
    "predictions = []\n",
    "scores = []\n",
    "\n",
    "for i in range(5):\n",
    "    y_test_pred = classifiers[i].predict(X_test)\n",
    "    y_val_pred = classifiers[i].predict(data_splits[i][2])\n",
    "    predictions.append(y_test_pred)\n",
    "    scores.append(rmse(y_val_pred, data_splits[i][3]))\n",
    "    \n",
    "# predictions = np.array(predictions)\n",
    "predictions = np.mean(predictions, axis=0)\n",
    "print(scores)"
   ]
  },
  {
   "cell_type": "code",
   "execution_count": 59,
   "metadata": {
    "collapsed": false,
    "deletable": true,
    "editable": true
   },
   "outputs": [],
   "source": [
    "data = []\n",
    "\n",
    "for i, filename in enumerate(os.listdir(\"test\")):\n",
    "    data.append([int(filename[4:-4]), predictions[i]])"
   ]
  },
  {
   "cell_type": "code",
   "execution_count": 60,
   "metadata": {
    "collapsed": true,
    "deletable": true,
    "editable": true
   },
   "outputs": [],
   "source": [
    "df = pd.DataFrame(data, columns=['id', 'res'])"
   ]
  },
  {
   "cell_type": "code",
   "execution_count": 61,
   "metadata": {
    "collapsed": false,
    "deletable": true,
    "editable": true
   },
   "outputs": [
    {
     "data": {
      "text/html": [
       "<div>\n",
       "<table border=\"1\" class=\"dataframe\">\n",
       "  <thead>\n",
       "    <tr style=\"text-align: right;\">\n",
       "      <th></th>\n",
       "      <th>id</th>\n",
       "      <th>res</th>\n",
       "    </tr>\n",
       "  </thead>\n",
       "  <tbody>\n",
       "    <tr>\n",
       "      <th>0</th>\n",
       "      <td>329</td>\n",
       "      <td>0.999968</td>\n",
       "    </tr>\n",
       "    <tr>\n",
       "      <th>1</th>\n",
       "      <td>2818</td>\n",
       "      <td>0.002383</td>\n",
       "    </tr>\n",
       "    <tr>\n",
       "      <th>2</th>\n",
       "      <td>473</td>\n",
       "      <td>0.080105</td>\n",
       "    </tr>\n",
       "    <tr>\n",
       "      <th>3</th>\n",
       "      <td>1493</td>\n",
       "      <td>0.001379</td>\n",
       "    </tr>\n",
       "    <tr>\n",
       "      <th>4</th>\n",
       "      <td>315</td>\n",
       "      <td>0.978596</td>\n",
       "    </tr>\n",
       "  </tbody>\n",
       "</table>\n",
       "</div>"
      ],
      "text/plain": [
       "     id       res\n",
       "0   329  0.999968\n",
       "1  2818  0.002383\n",
       "2   473  0.080105\n",
       "3  1493  0.001379\n",
       "4   315  0.978596"
      ]
     },
     "execution_count": 61,
     "metadata": {},
     "output_type": "execute_result"
    }
   ],
   "source": [
    "df.head()"
   ]
  },
  {
   "cell_type": "code",
   "execution_count": 62,
   "metadata": {
    "collapsed": false,
    "deletable": true,
    "editable": true
   },
   "outputs": [],
   "source": [
    "df.to_csv('submission.csv', columns=['id', 'res'], sep=',', index=False)"
   ]
  }
 ],
 "metadata": {
  "kernelspec": {
   "display_name": "Python 3",
   "language": "python",
   "name": "python3"
  },
  "language_info": {
   "codemirror_mode": {
    "name": "ipython",
    "version": 3
   },
   "file_extension": ".py",
   "mimetype": "text/x-python",
   "name": "python",
   "nbconvert_exporter": "python",
   "pygments_lexer": "ipython3",
   "version": "3.5.2"
  }
 },
 "nbformat": 4,
 "nbformat_minor": 2
}
